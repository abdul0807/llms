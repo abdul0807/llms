{
 "cells": [
  {
   "cell_type": "code",
   "execution_count": 1,
   "metadata": {},
   "outputs": [],
   "source": [
    "# # Open a new terminal\n",
    "# # Create a new conda/virtual environment using python 3.10.13 and install all the required packages given below:\n",
    "\n",
    "# !pip install \\\n",
    "#     datasets==2.15.0 \\\n",
    "#     transformers==4.31.0 \\\n",
    "#     evaluate==0.4.1 \\\n",
    "#     torch==2.1.1 \\\n",
    "#     rouge_score==0.1.2 \\\n",
    "#     accelerate==0.25.0 \\\n",
    "#     sentencepiece==0.1.99 \\\n",
    "#     bitsandbytes==0.41.3.post1 --quiet"
   ]
  },
  {
   "cell_type": "code",
   "execution_count": 2,
   "metadata": {
    "height": 98
   },
   "outputs": [
    {
     "name": "stderr",
     "output_type": "stream",
     "text": [
      "/home/ec2-user/anaconda3/envs/llm/lib/python3.10/site-packages/tqdm/auto.py:21: TqdmWarning: IProgress not found. Please update jupyter and ipywidgets. See https://ipywidgets.readthedocs.io/en/stable/user_install.html\n",
      "  from .autonotebook import tqdm as notebook_tqdm\n"
     ]
    }
   ],
   "source": [
    "from datasets import load_dataset\n",
    "from pprint import pprint\n",
    "from transformers import AutoTokenizer, AutoModelForSeq2SeqLM, AutoModelForCausalLM\n",
    "\n",
    "import evaluate\n",
    "from tqdm.auto import tqdm\n",
    "import torch"
   ]
  },
  {
   "cell_type": "markdown",
   "metadata": {},
   "source": [
    "# loading data"
   ]
  },
  {
   "cell_type": "code",
   "execution_count": 3,
   "metadata": {
    "height": 64
   },
   "outputs": [],
   "source": [
    "dataset_name = 'lamini/lamini_docs'\n",
    "dataset = load_dataset(dataset_name)"
   ]
  },
  {
   "cell_type": "code",
   "execution_count": 4,
   "metadata": {},
   "outputs": [
    {
     "data": {
      "text/plain": [
       "DatasetDict({\n",
       "    train: Dataset({\n",
       "        features: ['question', 'answer', 'input_ids', 'attention_mask', 'labels'],\n",
       "        num_rows: 1260\n",
       "    })\n",
       "    test: Dataset({\n",
       "        features: ['question', 'answer', 'input_ids', 'attention_mask', 'labels'],\n",
       "        num_rows: 140\n",
       "    })\n",
       "})"
      ]
     },
     "execution_count": 4,
     "metadata": {},
     "output_type": "execute_result"
    }
   ],
   "source": [
    "dataset"
   ]
  },
  {
   "cell_type": "markdown",
   "metadata": {},
   "source": [
    "# loading model and tokenizer"
   ]
  },
  {
   "cell_type": "code",
   "execution_count": 5,
   "metadata": {},
   "outputs": [
    {
     "data": {
      "text/plain": [
       "device(type='cuda')"
      ]
     },
     "execution_count": 5,
     "metadata": {},
     "output_type": "execute_result"
    }
   ],
   "source": [
    "device = torch.device('cuda' if torch.cuda.is_available() else 'cpu')\n",
    "device"
   ]
  },
  {
   "cell_type": "code",
   "execution_count": 6,
   "metadata": {},
   "outputs": [
    {
     "name": "stderr",
     "output_type": "stream",
     "text": [
      "Some weights of T5ForConditionalGeneration were not initialized from the model checkpoint at google/flan-t5-base and are newly initialized: ['decoder.embed_tokens.weight', 'encoder.embed_tokens.weight']\n",
      "You should probably TRAIN this model on a down-stream task to be able to use it for predictions and inference.\n"
     ]
    }
   ],
   "source": [
    "model_name = 'google/flan-t5-base'\n",
    "tokenizer = AutoTokenizer.from_pretrained(model_name, legacy=False)\n",
    "model = AutoModelForSeq2SeqLM.from_pretrained(\"google/flan-t5-base\", device_map=\"auto\")#, load_in_8bit=True)"
   ]
  },
  {
   "cell_type": "markdown",
   "metadata": {},
   "source": [
    "# input tokenization"
   ]
  },
  {
   "cell_type": "code",
   "execution_count": 7,
   "metadata": {},
   "outputs": [],
   "source": [
    "def determine_tokens(tokenizer):\n",
    "    def tokenization(data):\n",
    "        prompt = \"\"\"\n",
    "        Answer the given question and provide detail explanation. This is important for my career. \\\n",
    "        Take your time, think and answer.\n",
    "\n",
    "        Question:\n",
    "        {question}\n",
    "\n",
    "        Answer: \"\"\"\n",
    "    \n",
    "        prompt = [prompt.format(question=question) for question in data['question']]\n",
    "        tokenized_inputs = tokenizer(\n",
    "            prompt,\n",
    "            return_tensors='pt',\n",
    "            truncation=True,\n",
    "            padding=True,\n",
    "        )['input_ids'].to(device)\n",
    "        \n",
    "        tokenized_labels = tokenizer(\n",
    "            data['answer'],\n",
    "            return_tensors='pt',\n",
    "            truncation=True,\n",
    "            padding=True,\n",
    "        )['input_ids'].to(device)\n",
    "        \n",
    "        data['input_ids'] = tokenized_inputs\n",
    "        data['labels'] = tokenized_labels\n",
    "\n",
    "        return data\n",
    "    return tokenization"
   ]
  },
  {
   "cell_type": "code",
   "execution_count": 8,
   "metadata": {},
   "outputs": [],
   "source": [
    "dataset = dataset.remove_columns(['labels'])\n",
    "tokenized_dataset = dataset.map(\n",
    "    determine_tokens(tokenizer),\n",
    "    batched=True,\n",
    "    batch_size=1,\n",
    "    drop_last_batch=True\n",
    ")"
   ]
  },
  {
   "cell_type": "code",
   "execution_count": 9,
   "metadata": {},
   "outputs": [
    {
     "data": {
      "text/plain": [
       "DatasetDict({\n",
       "    train: Dataset({\n",
       "        features: ['question', 'answer', 'input_ids', 'attention_mask', 'labels'],\n",
       "        num_rows: 1260\n",
       "    })\n",
       "    test: Dataset({\n",
       "        features: ['question', 'answer', 'input_ids', 'attention_mask', 'labels'],\n",
       "        num_rows: 140\n",
       "    })\n",
       "})"
      ]
     },
     "execution_count": 9,
     "metadata": {},
     "output_type": "execute_result"
    }
   ],
   "source": [
    "tokenized_dataset"
   ]
  },
  {
   "cell_type": "markdown",
   "metadata": {},
   "source": [
    "# train test split "
   ]
  },
  {
   "cell_type": "code",
   "execution_count": 10,
   "metadata": {},
   "outputs": [
    {
     "data": {
      "text/plain": [
       "{'train': (1134, 5), 'test': (126, 5)}"
      ]
     },
     "execution_count": 10,
     "metadata": {},
     "output_type": "execute_result"
    }
   ],
   "source": [
    "train_dataset = tokenized_dataset['train'].train_test_split(test_size=0.1, shuffle=True, seed=12345)\n",
    "train_dataset.shape"
   ]
  },
  {
   "cell_type": "code",
   "execution_count": 11,
   "metadata": {},
   "outputs": [
    {
     "data": {
      "text/plain": [
       "(140, 5)"
      ]
     },
     "execution_count": 11,
     "metadata": {},
     "output_type": "execute_result"
    }
   ],
   "source": [
    "test_dataset = tokenized_dataset['test']\n",
    "test_dataset.shape"
   ]
  },
  {
   "cell_type": "markdown",
   "metadata": {},
   "source": [
    "# model training"
   ]
  },
  {
   "cell_type": "code",
   "execution_count": 12,
   "metadata": {},
   "outputs": [],
   "source": [
    "train_dataset = train_dataset.remove_columns(['question', 'answer', 'attention_mask'])"
   ]
  },
  {
   "cell_type": "code",
   "execution_count": 13,
   "metadata": {},
   "outputs": [
    {
     "data": {
      "text/plain": [
       "DatasetDict({\n",
       "    train: Dataset({\n",
       "        features: ['input_ids', 'labels'],\n",
       "        num_rows: 1134\n",
       "    })\n",
       "    test: Dataset({\n",
       "        features: ['input_ids', 'labels'],\n",
       "        num_rows: 126\n",
       "    })\n",
       "})"
      ]
     },
     "execution_count": 13,
     "metadata": {},
     "output_type": "execute_result"
    }
   ],
   "source": [
    "train_dataset"
   ]
  },
  {
   "cell_type": "code",
   "execution_count": 14,
   "metadata": {},
   "outputs": [],
   "source": [
    "from transformers import TrainingArguments, Trainer\n",
    "import time\n",
    "\n",
    "model_dir = \"../model/\"\n",
    "!mkdir -p {model_dir}"
   ]
  },
  {
   "cell_type": "code",
   "execution_count": 15,
   "metadata": {},
   "outputs": [],
   "source": [
    "output_dir = f'{model_dir}/training-{str(int(time.time()))}'\n",
    "max_steps = -1\n",
    "\n",
    "training_args = TrainingArguments(\n",
    "    \n",
    "    # directory to save model checkpoint\n",
    "    output_dir=output_dir,\n",
    "    \n",
    "    # learning rate\n",
    "    learning_rate=1e-5,\n",
    "    \n",
    "    # number of training epochs\n",
    "    num_train_epochs=2,\n",
    "    \n",
    "    # max steps to train for (each step is a batch of data)\n",
    "    # overrides num_train_epochs, if not -1\n",
    "    max_steps=max_steps,\n",
    "    \n",
    "    # batch size for training\n",
    "    per_device_train_batch_size=1,\n",
    "#     auto_find_batch_size=True,\n",
    "\n",
    "#     weight_decay=0.01,\n",
    "    \n",
    "    # other arguments\n",
    "    overwrite_output_dir=False, # Overwrite the content of the output directory\n",
    "    disable_tqdm=False, # Disable progress bars\n",
    "    eval_steps=120, # Number of update steps between two evaluations\n",
    "    save_steps=120, # After # steps model is saved\n",
    "    warmup_steps=1, # Number of warmup steps for learning rate scheduler\n",
    "    per_device_eval_batch_size=1, # Batch size for evaluation\n",
    "    evaluation_strategy=\"steps\",\n",
    "    logging_strategy=\"steps\",\n",
    "    logging_steps=1,\n",
    "    optim=\"adafactor\",\n",
    "    gradient_accumulation_steps = 4,\n",
    "    gradient_checkpointing=False,\n",
    "\n",
    "    # parameters for early stopping\n",
    "    load_best_model_at_end=True,\n",
    "    save_total_limit=1,\n",
    "    metric_for_best_model=\"eval_loss\",\n",
    "    greater_is_better=False\n",
    "    \n",
    ")\n",
    "\n",
    "trainer = Trainer(\n",
    "    model=model,\n",
    "    args=training_args,\n",
    "    train_dataset=train_dataset['train'],\n",
    "    eval_dataset=train_dataset['test']\n",
    ")"
   ]
  },
  {
   "cell_type": "code",
   "execution_count": 16,
   "metadata": {
    "scrolled": true
   },
   "outputs": [
    {
     "data": {
      "text/html": [
       "\n",
       "    <div>\n",
       "      \n",
       "      <progress value='566' max='566' style='width:300px; height:20px; vertical-align: middle;'></progress>\n",
       "      [566/566 07:51, Epoch 1/2]\n",
       "    </div>\n",
       "    <table border=\"1\" class=\"dataframe\">\n",
       "  <thead>\n",
       " <tr style=\"text-align: left;\">\n",
       "      <th>Step</th>\n",
       "      <th>Training Loss</th>\n",
       "      <th>Validation Loss</th>\n",
       "    </tr>\n",
       "  </thead>\n",
       "  <tbody>\n",
       "    <tr>\n",
       "      <td>120</td>\n",
       "      <td>2.634600</td>\n",
       "      <td>2.254917</td>\n",
       "    </tr>\n",
       "    <tr>\n",
       "      <td>240</td>\n",
       "      <td>2.641200</td>\n",
       "      <td>2.168026</td>\n",
       "    </tr>\n",
       "    <tr>\n",
       "      <td>360</td>\n",
       "      <td>2.109200</td>\n",
       "      <td>2.111719</td>\n",
       "    </tr>\n",
       "    <tr>\n",
       "      <td>480</td>\n",
       "      <td>2.527800</td>\n",
       "      <td>2.086913</td>\n",
       "    </tr>\n",
       "  </tbody>\n",
       "</table><p>"
      ],
      "text/plain": [
       "<IPython.core.display.HTML object>"
      ]
     },
     "metadata": {},
     "output_type": "display_data"
    },
    {
     "name": "stdout",
     "output_type": "stream",
     "text": [
      "CPU times: user 7min 50s, sys: 5.57 s, total: 7min 55s\n",
      "Wall time: 7min 53s\n"
     ]
    },
    {
     "data": {
      "text/plain": [
       "TrainOutput(global_step=566, training_loss=2.45397535608851, metrics={'train_runtime': 473.3441, 'train_samples_per_second': 4.791, 'train_steps_per_second': 1.196, 'total_flos': 145744985318400.0, 'train_loss': 2.45397535608851, 'epoch': 2.0})"
      ]
     },
     "execution_count": 16,
     "metadata": {},
     "output_type": "execute_result"
    }
   ],
   "source": [
    "%%time\n",
    "\n",
    "trainer.train()"
   ]
  },
  {
   "cell_type": "code",
   "execution_count": 17,
   "metadata": {
    "scrolled": true
   },
   "outputs": [
    {
     "name": "stdout",
     "output_type": "stream",
     "text": [
      "Saved model to: ../model//training-1703085813/final\n"
     ]
    }
   ],
   "source": [
    "save_dir = f'{output_dir}/final'\n",
    "\n",
    "trainer.save_model(save_dir)\n",
    "print(\"Saved model to:\", save_dir)"
   ]
  },
  {
   "cell_type": "markdown",
   "metadata": {},
   "source": [
    "# model evaluation"
   ]
  },
  {
   "cell_type": "code",
   "execution_count": 18,
   "metadata": {},
   "outputs": [],
   "source": [
    "def inference(text, model, tokenizer, max_input_tokens=1000, max_output_tokens=100):\n",
    "    prompt_str = \"\"\"\n",
    "    Answer the given question and provide detail explanation. This is important for my career. \\\n",
    "    Take your time, think and answer.\n",
    "\n",
    "    Question:\n",
    "    {question}\n",
    "\n",
    "    Answer: \"\"\"\n",
    "    \n",
    "    # Tokenize\n",
    "    device = model.device\n",
    "    \n",
    "    prompt = [prompt_str.format(question=question) for question in text]\n",
    "    input_ids = tokenizer(\n",
    "        prompt,\n",
    "        return_tensors=\"pt\",\n",
    "        truncation=True,\n",
    "        padding=True,\n",
    "    )\n",
    "\n",
    "    # Generate\n",
    "    generated_tokens_with_prompt = model.generate(\n",
    "        **input_ids.to(device),\n",
    "        max_length=max_output_tokens\n",
    "    )\n",
    "\n",
    "    # Decode\n",
    "    generated_text_with_prompt = tokenizer.batch_decode(generated_tokens_with_prompt, skip_special_tokens=True)\n",
    "\n",
    "    return generated_text_with_prompt"
   ]
  },
  {
   "cell_type": "code",
   "execution_count": 19,
   "metadata": {},
   "outputs": [],
   "source": [
    "def model_evaluation(model, tokenizer, data):\n",
    "    # model prediction\n",
    "    predictions = inference(data['question'], model, tokenizer)\n",
    "    \n",
    "    # evaluation\n",
    "    rouge = evaluate.load('rouge')\n",
    "    rouge_score = rouge.compute(\n",
    "        predictions = predictions,\n",
    "        references= data['answer'],\n",
    "        use_aggregator=True,\n",
    "        use_stemmer=True\n",
    "    )\n",
    "\n",
    "    return rouge_score"
   ]
  },
  {
   "cell_type": "code",
   "execution_count": 20,
   "metadata": {
    "height": 30,
    "scrolled": true
   },
   "outputs": [
    {
     "name": "stdout",
     "output_type": "stream",
     "text": [
      "{'rouge1': 0.390481295660745, 'rouge2': 0.26200322663120856, 'rougeL': 0.3487057141068033, 'rougeLsum': 0.34940125211344875}\n"
     ]
    }
   ],
   "source": [
    "# loading the local model\n",
    "model = AutoModelForSeq2SeqLM.from_pretrained(save_dir, local_files_only=True).to(device)\n",
    "\n",
    "# model evaluation\n",
    "result = model_evaluation(model, tokenizer, test_dataset)\n",
    "print(result)"
   ]
  },
  {
   "cell_type": "code",
   "execution_count": 21,
   "metadata": {
    "height": 30,
    "scrolled": true
   },
   "outputs": [
    {
     "name": "stderr",
     "output_type": "stream",
     "text": [
      "Asking to truncate to max_length but no maximum length is provided and the model has no predefined maximum length. Default to no truncation.\n",
      "Setting `pad_token_id` to `eos_token_id`:0 for open-end generation.\n"
     ]
    },
    {
     "name": "stdout",
     "output_type": "stream",
     "text": [
      "{'rouge1': 0.34621192689269137, 'rouge2': 0.16426376810151316, 'rougeL': 0.2479945015628851, 'rougeLsum': 0.26975039596357875}\n"
     ]
    }
   ],
   "source": [
    "model_name = \"lamini/lamini_docs_finetuned\"\n",
    "\n",
    "model_lamini = AutoModelForCausalLM.from_pretrained(model_name, device_map='auto')\n",
    "tokenizer_lamini = AutoTokenizer.from_pretrained(model_name)\n",
    "tokenizer_lamini.add_special_tokens({'pad_token': '[PAD]'})\n",
    "\n",
    "result_lamini = model_evaluation(model_lamini, tokenizer_lamini, test_dataset)\n",
    "print(result_lamini)"
   ]
  },
  {
   "cell_type": "code",
   "execution_count": 22,
   "metadata": {
    "height": 30
   },
   "outputs": [
    {
     "name": "stdout",
     "output_type": "stream",
     "text": [
      "rouge1 : 12.79% improvement\n",
      "rouge2 : 59.50% improvement\n",
      "rougeL : 40.61% improvement\n",
      "rougeLsum : 29.53% improvement\n"
     ]
    }
   ],
   "source": [
    "for k, v in result.items():\n",
    "    pct_diff = ((result[k] - result_lamini[k]) / result_lamini[k])*100\n",
    "    print(k, \":\", f'{pct_diff:0.2f}% improvement')"
   ]
  },
  {
   "cell_type": "code",
   "execution_count": null,
   "metadata": {
    "height": 30
   },
   "outputs": [],
   "source": []
  },
  {
   "cell_type": "code",
   "execution_count": null,
   "metadata": {
    "height": 30
   },
   "outputs": [],
   "source": []
  }
 ],
 "metadata": {
  "colab": {
   "gpuType": "T4",
   "provenance": []
  },
  "kernelspec": {
   "display_name": "llm",
   "language": "python",
   "name": "llm"
  },
  "language_info": {
   "codemirror_mode": {
    "name": "ipython",
    "version": 3
   },
   "file_extension": ".py",
   "mimetype": "text/x-python",
   "name": "python",
   "nbconvert_exporter": "python",
   "pygments_lexer": "ipython3",
   "version": "3.10.13"
  },
  "toc": {
   "base_numbering": 1,
   "nav_menu": {},
   "number_sections": true,
   "sideBar": true,
   "skip_h1_title": false,
   "title_cell": "Table of Contents",
   "title_sidebar": "Contents",
   "toc_cell": false,
   "toc_position": {},
   "toc_section_display": true,
   "toc_window_display": false
  }
 },
 "nbformat": 4,
 "nbformat_minor": 4
}
